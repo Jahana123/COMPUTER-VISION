{
 "cells": [
  {
   "cell_type": "code",
   "execution_count": null,
   "id": "710dc3ef",
   "metadata": {},
   "outputs": [],
   "source": [
    "#!pip install opencv-contrib-python"
   ]
  },
  {
   "cell_type": "code",
   "execution_count": 3,
   "id": "70cf79e0",
   "metadata": {},
   "outputs": [],
   "source": [
    "import cv2\n",
    "import matplotlib.pyplot as plt\n",
    "import numpy as np"
   ]
  },
  {
   "cell_type": "markdown",
   "id": "3fdf289d",
   "metadata": {},
   "source": [
    "### Reading images"
   ]
  },
  {
   "cell_type": "code",
   "execution_count": 4,
   "id": "ba5ebf24",
   "metadata": {},
   "outputs": [],
   "source": [
    "img=cv2.imread('flwimg.jpg')"
   ]
  },
  {
   "cell_type": "markdown",
   "id": "d8b69d10",
   "metadata": {},
   "source": [
    "### Display images in python"
   ]
  },
  {
   "cell_type": "code",
   "execution_count": null,
   "id": "bf15dfe8",
   "metadata": {},
   "outputs": [],
   "source": [
    "cv2.imshow('hello',img)\n",
    "\n",
    "\n",
    "cv2.waitKey(0)\n",
    "cv2.destroyAllWindows()"
   ]
  },
  {
   "cell_type": "markdown",
   "id": "491255ff",
   "metadata": {},
   "source": [
    "### Saving image"
   ]
  },
  {
   "cell_type": "code",
   "execution_count": null,
   "id": "a345a2c7",
   "metadata": {},
   "outputs": [],
   "source": [
    "status=cv2.imwrite(r\"C:\\Users\\DELL\\COMPUTER VISION\\OPEN CV\\flwimg.jpg\",img)\n",
    "\n",
    "status=cv2.imwrite('images.jpg',img)  #save with another name\n",
    "print('Image written success: ',status)"
   ]
  },
  {
   "cell_type": "markdown",
   "id": "9673007b",
   "metadata": {},
   "source": [
    "### Pixel "
   ]
  },
  {
   "cell_type": "code",
   "execution_count": null,
   "id": "e55f85ea",
   "metadata": {},
   "outputs": [],
   "source": []
  },
  {
   "cell_type": "code",
   "execution_count": null,
   "id": "6565a7fa",
   "metadata": {},
   "outputs": [],
   "source": [
    "print(img)"
   ]
  },
  {
   "cell_type": "markdown",
   "id": "65159579",
   "metadata": {},
   "source": [
    "### converting image to greyscale"
   ]
  },
  {
   "cell_type": "code",
   "execution_count": null,
   "id": "4c652d24",
   "metadata": {},
   "outputs": [],
   "source": [
    "imgGray=cv2.cvtColor(img,cv2.COLOR_BGR2GRAY)\n",
    "\n",
    "cv2.imshow('Gray image',imgGray)\n",
    "cv2.waitKey(0)\n",
    "cv2.destroyAllWindows()"
   ]
  },
  {
   "cell_type": "code",
   "execution_count": null,
   "id": "b99f33e3",
   "metadata": {},
   "outputs": [],
   "source": [
    "print(imgGray)"
   ]
  },
  {
   "cell_type": "markdown",
   "id": "762243f7",
   "metadata": {},
   "source": [
    "### Edge detection"
   ]
  },
  {
   "cell_type": "code",
   "execution_count": null,
   "id": "431ca112",
   "metadata": {},
   "outputs": [],
   "source": [
    "imgCanny=cv2.Canny(img,150,200)\n",
    "cv2.imshow('Canny Image',imgCanny)\n",
    "cv2.waitKey(0)\n",
    "cv2.destroyAllWindows()"
   ]
  },
  {
   "cell_type": "markdown",
   "id": "3008582b",
   "metadata": {},
   "source": [
    "### Croping image"
   ]
  },
  {
   "cell_type": "code",
   "execution_count": null,
   "id": "2b733c12",
   "metadata": {},
   "outputs": [],
   "source": [
    "width,height=400,550\n",
    "point1=np.float32([[200,219],[287,288],[354,482],[352,440]])\n",
    "point2=np.float32([[0,0],[width,0],[0,height],[width,height]])\n",
    "matrix=cv2.getPerspectiveTransform(point1,point2)\n",
    "cropped=cv2.warpPerspective(img,matrix,(width,height))\n",
    "\n",
    "cv2.imshow('Output',cropped)\n",
    "cv2.waitKey(0)\n",
    "cv2.destroyAllWindows()"
   ]
  },
  {
   "cell_type": "markdown",
   "id": "b9f19124",
   "metadata": {},
   "source": [
    "### Access image properties"
   ]
  },
  {
   "cell_type": "code",
   "execution_count": null,
   "id": "5377092c",
   "metadata": {},
   "outputs": [],
   "source": [
    "print(img.shape)  #height,width,color channel :colored img =3 and grey img=1\n",
    "\n",
    "h,w=img.shape[:2]\n",
    "print('height = {} ,width = {}'.format(h,w))"
   ]
  },
  {
   "cell_type": "code",
   "execution_count": null,
   "id": "6353956a",
   "metadata": {},
   "outputs": [],
   "source": [
    "print(img.size)"
   ]
  },
  {
   "cell_type": "code",
   "execution_count": null,
   "id": "0babe513",
   "metadata": {},
   "outputs": [],
   "source": [
    "print(img.dtype)"
   ]
  },
  {
   "cell_type": "markdown",
   "id": "8cf5107c",
   "metadata": {},
   "source": [
    "### Extracting the Region Of Interest(ROI)"
   ]
  },
  {
   "cell_type": "code",
   "execution_count": null,
   "id": "63969e12",
   "metadata": {},
   "outputs": [],
   "source": [
    "roi=img[100:500,200:700]  #by slicing pixels of the image\n",
    "\n",
    "cv2.imshow('image',roi)\n",
    "cv2.waitKey(0)\n",
    "cv2.destroyAllWindows()"
   ]
  },
  {
   "cell_type": "markdown",
   "id": "91845328",
   "metadata": {},
   "source": [
    "### Resizing the image"
   ]
  },
  {
   "cell_type": "code",
   "execution_count": null,
   "id": "d70bfad0",
   "metadata": {},
   "outputs": [],
   "source": [
    "resize=cv2.resize(img,(800,800))  #resize takes 2 parameters image and dimension\n",
    "\n",
    "cv2.imshow('image',resize)\n",
    "cv2.waitKey(0)\n",
    "cv2.destroyAllWindows()"
   ]
  },
  {
   "cell_type": "code",
   "execution_count": null,
   "id": "83cb42d1",
   "metadata": {},
   "outputs": [],
   "source": [
    "print(resize.shape)"
   ]
  },
  {
   "cell_type": "code",
   "execution_count": null,
   "id": "183abf87",
   "metadata": {},
   "outputs": [],
   "source": [
    "w=1920\n",
    "h=1200\n",
    "\n",
    "#calculating ratio\n",
    "ratio=800 / w\n",
    "\n",
    "#creating a tuple containing width and height\n",
    "dim=(800,int(h * ratio))\n",
    "\n",
    "#resizing image\n",
    "resize_aspect=cv2.resize(img,dim)\n",
    "\n",
    "cv2.imshow('image',resize_aspect)\n",
    "cv2.waitKey(0)\n",
    "cv2.destroyAllWindows()\n",
    "\n",
    "print(resize_aspect.shape)"
   ]
  },
  {
   "cell_type": "markdown",
   "id": "56146925",
   "metadata": {},
   "source": [
    "### Rotating image"
   ]
  },
  {
   "cell_type": "code",
   "execution_count": null,
   "id": "8012c64c",
   "metadata": {},
   "outputs": [],
   "source": [
    "w=1920\n",
    "h=1200\n",
    "\n",
    "#calculating center of the image\n",
    "center=(w // 2,h // 2)\n",
    "\n",
    "#generating a rotation matrix\n",
    "matrix=cv2.getRotationMatrix2D(center,-90,1.0)\n",
    "\n",
    "#performing the affine tranformation\n",
    "rotated=cv2.warpAffine(img,matrix,(w,h))\n",
    "\n",
    "cv2.imshow('image',rotated)\n",
    "cv2.waitKey(0)\n",
    "cv2.destroyAllWindows()\n"
   ]
  },
  {
   "cell_type": "markdown",
   "id": "81e82847",
   "metadata": {},
   "source": [
    "### Drawing Rectangle"
   ]
  },
  {
   "cell_type": "code",
   "execution_count": 5,
   "id": "f07f3063",
   "metadata": {},
   "outputs": [],
   "source": [
    "output=img.copy()\n",
    "\n",
    "rectangle=cv2.rectangle(output,(1050,630),(430,200),(255,0,0),2)\n",
    "\n",
    "cv2.imshow('image',rectangle)\n",
    "cv2.waitKey(0)\n",
    "cv2.destroyAllWindows()"
   ]
  },
  {
   "cell_type": "markdown",
   "id": "9a193456",
   "metadata": {},
   "source": [
    "### Drawing Circle"
   ]
  },
  {
   "cell_type": "code",
   "execution_count": 8,
   "id": "6de39e76",
   "metadata": {},
   "outputs": [],
   "source": [
    "output=img.copy()\n",
    "\n",
    "circle=cv2.circle(output,(600,630),200,(255,0,0),2)\n",
    "\n",
    "cv2.imshow('image',circle)\n",
    "cv2.waitKey(0)\n",
    "cv2.destroyAllWindows()"
   ]
  },
  {
   "cell_type": "markdown",
   "id": "75e39ce6",
   "metadata": {},
   "source": [
    "### Drawing polylines"
   ]
  },
  {
   "cell_type": "code",
   "execution_count": 8,
   "id": "a9572447",
   "metadata": {},
   "outputs": [],
   "source": [
    "output=img.copy()\n",
    "\n",
    "pts=np.array([[200,250],[200,300],[700,200],[500,100]],np.int32)\n",
    "\n",
    "poly=cv2.polylines(output,[pts],True,(0,255,255),3)\n",
    "cv2.imshow('image',poly)\n",
    "cv2.waitKey(0)\n",
    "cv2.destroyAllWindows()"
   ]
  },
  {
   "cell_type": "markdown",
   "id": "a47ae601",
   "metadata": {},
   "source": [
    "### Text"
   ]
  },
  {
   "cell_type": "code",
   "execution_count": 18,
   "id": "9e0dd294",
   "metadata": {},
   "outputs": [],
   "source": [
    "output=img.copy()\n",
    "text=cv2.putText(output,'Nature',(450,150),cv2.FONT_HERSHEY_SIMPLEX,5,(255,255,0),2)\n",
    "\n",
    "cv2.imshow('image',text)\n",
    "cv2.waitKey(0)\n",
    "cv2.destroyAllWindows()\n"
   ]
  },
  {
   "cell_type": "markdown",
   "id": "ee86f8e5",
   "metadata": {},
   "source": [
    "### Thresholding"
   ]
  },
  {
   "cell_type": "markdown",
   "id": "471300c2",
   "metadata": {},
   "source": [
    "### Thresholding help us to remove lighter or darken regions and contours of images"
   ]
  },
  {
   "cell_type": "code",
   "execution_count": 24,
   "id": "a4e7064e",
   "metadata": {},
   "outputs": [],
   "source": [
    "imgGray=cv2.cvtColor(img,cv2.COLOR_BGR2GRAY)\n",
    "\n",
    "#threshold by setting all pixels <225 to 225 (white foreground) and all pixel values >=225 to 255 (black background)\n",
    "\n",
    "thresh=cv2.threshold(imgGray,100,255,cv2.THRESH_BINARY_INV)[1]\n",
    "\n",
    "cv2.imshow('Thresh',thresh)\n",
    "cv2.waitKey(0)\n",
    "cv2.destroyAllWindows()\n",
    "\n"
   ]
  },
  {
   "cell_type": "markdown",
   "id": "f426ac4a",
   "metadata": {},
   "source": [
    "### Playing video using videocapture() function"
   ]
  },
  {
   "cell_type": "code",
   "execution_count": 33,
   "id": "068a6dde",
   "metadata": {},
   "outputs": [],
   "source": [
    "import cv2\n",
    "import numpy as np\n",
    "\n",
    "# create video capture object and read from input file\n",
    "cap=cv2.VideoCapture('To-Do List.mp4')\n",
    "\n",
    "#check if camera opened successfully\n",
    "if(cap.isOpened()==False):\n",
    "    print('Error opening video file')\n",
    "    \n",
    "# read until video is completed\n",
    "while(cap.isOpened()):\n",
    "    \n",
    "#capture frame by frame\n",
    "    ret,frame=cap.read()\n",
    "    if ret ==True:\n",
    "#display the resulting frame\n",
    "        cv2.imshow('Frame',frame)\n",
    "        \n",
    "        \n",
    "#press Q on keyboard to exit\n",
    "        if cv2.waitKey(25) & 0XFF ==ord('q'):\n",
    "            break\n",
    "            \n",
    "#break the loop\n",
    "    else:\n",
    "        break\n",
    "        \n",
    "# when everythung done , release the video capture object\n",
    "        \n",
    "cap.release()\n",
    "\n",
    "#close all the frames\n",
    "cv2.destroyAllWindows()"
   ]
  },
  {
   "cell_type": "markdown",
   "id": "ca08d277",
   "metadata": {},
   "source": [
    "### Capture video from camera"
   ]
  },
  {
   "cell_type": "code",
   "execution_count": null,
   "id": "e91da47b",
   "metadata": {},
   "outputs": [],
   "source": [
    "#system camera"
   ]
  },
  {
   "cell_type": "code",
   "execution_count": 34,
   "id": "3da92981",
   "metadata": {},
   "outputs": [],
   "source": [
    "import cv2\n",
    "import numpy as np\n",
    "\n",
    "# create video capture object and read from input file\n",
    "cap=cv2.VideoCapture(0)\n",
    "\n",
    "#check if camera opened successfully\n",
    "if(cap.isOpened()==False):\n",
    "    print('Error opening video file')\n",
    "    \n",
    "# read until video is completed\n",
    "while(cap.isOpened()):\n",
    "    \n",
    "#capture frame by frame\n",
    "    ret,frame=cap.read()\n",
    "    if ret ==True:\n",
    "#display the resulting frame\n",
    "        cv2.imshow('Frame',frame)\n",
    "        \n",
    "        \n",
    "#press Q on keyboard to exit\n",
    "        if cv2.waitKey(25) & 0XFF ==ord('q'):\n",
    "            break\n",
    "            \n",
    "#break the loop\n",
    "    else:\n",
    "        break\n",
    "        \n",
    "# when everythung done , release the video capture object\n",
    "        \n",
    "cap.release()\n",
    "\n",
    "#close all the frames\n",
    "cv2.destroyAllWindows()"
   ]
  },
  {
   "cell_type": "markdown",
   "id": "7ba328da",
   "metadata": {},
   "source": [
    "### Saving a video"
   ]
  },
  {
   "cell_type": "code",
   "execution_count": null,
   "id": "4866898a",
   "metadata": {},
   "outputs": [],
   "source": [
    "# create video capture object and read from input file\n",
    "cap=cv2.VideoCapture(0)\n",
    "\n",
    "#define the codec and create videowriter object\n",
    "fourcc=cv2.VideoWriter_fourcc(*'XVID')\n",
    "out=cv2.VideoWriter('output.avi',fourcc,20.0,(640,480))\n",
    "\n",
    "while(cap.isOpened()):\n",
    "    ret,frame=cap.read()\n",
    "    if ret==True:\n",
    "        #write the flipped frame\n",
    "        out.write(frame)\n",
    "        \n",
    "        if cv2.waitKey(1) & 0XFF == ord('q'):\n",
    "            break\n",
    "    else:\n",
    "        break\n",
    "cap.release()\n",
    "out.release()\n",
    "cv2.destroyAllWindows()"
   ]
  },
  {
   "cell_type": "code",
   "execution_count": null,
   "id": "6cdb5632",
   "metadata": {},
   "outputs": [],
   "source": []
  }
 ],
 "metadata": {
  "kernelspec": {
   "display_name": "Python 3 (ipykernel)",
   "language": "python",
   "name": "python3"
  },
  "language_info": {
   "codemirror_mode": {
    "name": "ipython",
    "version": 3
   },
   "file_extension": ".py",
   "mimetype": "text/x-python",
   "name": "python",
   "nbconvert_exporter": "python",
   "pygments_lexer": "ipython3",
   "version": "3.11.4"
  }
 },
 "nbformat": 4,
 "nbformat_minor": 5
}
